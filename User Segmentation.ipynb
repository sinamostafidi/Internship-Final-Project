{
 "cells": [
  {
   "cell_type": "markdown",
   "metadata": {},
   "source": [
    "# Loading the Data and Check Structure"
   ]
  },
  {
   "cell_type": "code",
   "execution_count": 1,
   "metadata": {},
   "outputs": [],
   "source": [
    "import pandas as pd\n",
    "import numpy as np\n",
    "from sklearn.impute import KNNImputer\n",
    "from convertdate import persian\n",
    "from datetime import datetime\n",
    "import jdatetime"
   ]
  },
  {
   "cell_type": "code",
   "execution_count": 2,
   "metadata": {},
   "outputs": [],
   "source": [
    "file_path = 'P2_user_segmentation.xlsx'\n",
    "data = pd.read_excel(file_path)"
   ]
  },
  {
   "cell_type": "code",
   "execution_count": 3,
   "metadata": {},
   "outputs": [
    {
     "name": "stdout",
     "output_type": "stream",
     "text": [
      "<class 'pandas.core.frame.DataFrame'>\n",
      "RangeIndex: 50000 entries, 0 to 49999\n",
      "Columns: 106 entries, Mobile Key to AllGuild\n",
      "dtypes: datetime64[ns](2), float64(77), int64(3), object(24)\n",
      "memory usage: 40.4+ MB\n",
      "None\n"
     ]
    }
   ],
   "source": [
    "print(data.info())"
   ]
  },
  {
   "cell_type": "code",
   "execution_count": 4,
   "metadata": {},
   "outputs": [
    {
     "name": "stdout",
     "output_type": "stream",
     "text": [
      "Index(['Mobile Key', 'Person Is Alive', 'Person Birth Date',\n",
      "       'Person Gender Title', 'Person First Name', 'Person Last Name',\n",
      "       'Mobile Number Encrypt', 'Mobile Number Masked', 'FirstAppInstallDate',\n",
      "       'Mobile Operator Id',\n",
      "       ...\n",
      "       'CMS_Balance', 'LastTrsDateWallet', 'FirstProvince', 'SecondProvince',\n",
      "       'FirstRegion', 'SecondRegion', 'FirstGuild', 'SecondGuild',\n",
      "       'ThirdGuild', 'AllGuild'],\n",
      "      dtype='object', length=106)\n"
     ]
    }
   ],
   "source": [
    "print(data.columns)"
   ]
  },
  {
   "cell_type": "markdown",
   "metadata": {},
   "source": [
    "# Finding duplicate columns"
   ]
  },
  {
   "cell_type": "code",
   "execution_count": 5,
   "metadata": {},
   "outputs": [
    {
     "name": "stdout",
     "output_type": "stream",
     "text": [
      "No duplicate column names found\n"
     ]
    }
   ],
   "source": [
    "duplicate_columns = data.columns[data.columns.duplicated()].unique()\n",
    "\n",
    "if len(duplicate_columns) > 0:\n",
    "    print(\"Duplicate column names found:\")\n",
    "    for col in duplicate_columns:\n",
    "        print(col)\n",
    "else:\n",
    "    print(\"No duplicate column names found\")"
   ]
  },
  {
   "cell_type": "markdown",
   "metadata": {},
   "source": [
    "# Replacing outliers with NaN"
   ]
  },
  {
   "cell_type": "code",
   "execution_count": 6,
   "metadata": {},
   "outputs": [
    {
     "name": "stdout",
     "output_type": "stream",
     "text": [
      "   Mobile Key Person Is Alive Person Birth Date Person Gender Title  \\\n",
      "0           2            True        1997-10-09                 مرد   \n",
      "1           4             NaN               NaT                 NaN   \n",
      "2           6             NaN               NaT                 NaN   \n",
      "3           7            True        1979-07-13                 مرد   \n",
      "4           9            True        1979-03-11                 مرد   \n",
      "\n",
      "  Person First Name Person Last Name     Mobile Number Encrypt  \\\n",
      "0              مجید             ملکی  HN8x8N88m+sikOUIs4Iuxg==   \n",
      "1               NaN              NaN  /Y38H9ETC2tMantBTYBQzw==   \n",
      "2               NaN              NaN  ThuZBrT+/BueLw7LxSX15w==   \n",
      "3           حمیدرضا     عزیزی مربویه  0sEbFPeIKs9cCJLA73cOoQ==   \n",
      "4           امیدعلی          احمدپور  FZT2oVrc5UCFaN8gjELmCg==   \n",
      "\n",
      "  Mobile Number Masked     FirstAppInstallDate  Mobile Operator Id  ...  \\\n",
      "0          0938***0926 2017-04-18 20:15:22.910                   2  ...   \n",
      "1          0913***9963 2014-12-15 21:59:03.870                   1  ...   \n",
      "2          0919***0132 2016-04-18 10:15:01.480                   1  ...   \n",
      "3          0917***4959 2020-01-13 23:07:15.570                   1  ...   \n",
      "4          0917***8979 2016-11-22 22:03:27.060                   1  ...   \n",
      "\n",
      "   CMS_Balance    LastTrsDateWallet FirstProvince SecondProvince FirstRegion  \\\n",
      "0          NaN                  NaN           NaN            NaN         NaN   \n",
      "1          NaN                  NaN           NaN            NaN         NaN   \n",
      "2          NaN                  NaN           NaN            NaN         NaN   \n",
      "3          NaN                  NaN          فارس           فارس       شيراز   \n",
      "4          NaN  2023-07-23 13:56:44          فارس           فارس      مرودشت   \n",
      "\n",
      "   SecondRegion FirstGuild SecondGuild ThirdGuild  \\\n",
      "0           NaN        NaN         NaN        NaN   \n",
      "1           NaN        NaN         NaN        NaN   \n",
      "2           NaN        NaN         NaN        NaN   \n",
      "3         شيراز       5411   5499,5311       5811   \n",
      "4         شيراز       5411        5251       5411   \n",
      "\n",
      "                                            AllGuild  \n",
      "0                                                NaN  \n",
      "1                                                NaN  \n",
      "2                                                NaN  \n",
      "3  5411,5441,7538,5533,5462,8062,5533,5411,5814,7...  \n",
      "4  1731,5261,5411,5812,5065,5065,5814,5441,5411,8...  \n",
      "\n",
      "[5 rows x 106 columns]\n"
     ]
    }
   ],
   "source": [
    "def replace_outliers_with_nan(df):\n",
    "    for col in df.select_dtypes(include=['float64', 'int64']).columns:\n",
    "        Q1 = df[col].quantile(0.25)\n",
    "        Q3 = df[col].quantile(0.75)\n",
    "        IQR = Q3 - Q1\n",
    "        lower_bound = Q1 - 1.5 * IQR\n",
    "        upper_bound = Q3 + 1.5 * IQR\n",
    "\n",
    "        df[col] = df[col].apply(lambda x: np.nan if (x < lower_bound) or (x > upper_bound) else x)\n",
    "    \n",
    "    return df\n",
    "\n",
    "data = replace_outliers_with_nan(data)\n",
    "print(data.head())"
   ]
  },
  {
   "cell_type": "markdown",
   "metadata": {},
   "source": [
    "# Analyzing Missing Values"
   ]
  },
  {
   "cell_type": "markdown",
   "metadata": {},
   "source": [
    "**Calculating the percentage of missing values for each column**"
   ]
  },
  {
   "cell_type": "code",
   "execution_count": 7,
   "metadata": {},
   "outputs": [
    {
     "name": "stdout",
     "output_type": "stream",
     "text": [
      "Mobile Key              0.000\n",
      "Person Is Alive        67.638\n",
      "Person Birth Date      68.842\n",
      "Person Gender Title    67.702\n",
      "Person First Name      67.638\n",
      "                        ...  \n",
      "SecondRegion           79.914\n",
      "FirstGuild             76.706\n",
      "SecondGuild            78.704\n",
      "ThirdGuild             82.046\n",
      "AllGuild               76.706\n",
      "Length: 106, dtype: float64\n"
     ]
    }
   ],
   "source": [
    "missing_values = data.isnull().mean() * 100\n",
    "print(missing_values)"
   ]
  },
  {
   "cell_type": "markdown",
   "metadata": {},
   "source": [
    "**Identifying columns with high missing rates (above 70%)**"
   ]
  },
  {
   "cell_type": "code",
   "execution_count": 8,
   "metadata": {},
   "outputs": [
    {
     "name": "stdout",
     "output_type": "stream",
     "text": [
      "FirstTrsDateIntFlight    99.968\n",
      "CountIntFlight           99.966\n",
      "AmountIntFlight          99.966\n",
      "LastTrsDateIntFlight     99.962\n",
      "FirstTrsDateDFlight      99.526\n",
      "                          ...  \n",
      "CountC2C                 72.992\n",
      "TotalAmountPos           71.972\n",
      "FirstTrsDatePos          71.558\n",
      "LastTrsDateC2C           71.256\n",
      "TotalTrsPos              71.192\n",
      "Length: 73, dtype: float64\n"
     ]
    }
   ],
   "source": [
    "high_missing_columns = missing_values[missing_values > 70].sort_values(ascending=False)\n",
    "print(high_missing_columns)"
   ]
  },
  {
   "cell_type": "markdown",
   "metadata": {},
   "source": [
    "# Handling Missing Values"
   ]
  },
  {
   "cell_type": "markdown",
   "metadata": {},
   "source": [
    "**Droping columns with more than 70% missing values**"
   ]
  },
  {
   "cell_type": "code",
   "execution_count": 9,
   "metadata": {},
   "outputs": [],
   "source": [
    "data = data.drop(columns=high_missing_columns[high_missing_columns > 70].index)"
   ]
  },
  {
   "cell_type": "markdown",
   "metadata": {},
   "source": [
    "**Droping rows with more than 50% missing values**"
   ]
  },
  {
   "cell_type": "code",
   "execution_count": 10,
   "metadata": {},
   "outputs": [],
   "source": [
    "threshold = data.shape[1] / 2\n",
    "data = data.dropna(thresh=threshold)"
   ]
  },
  {
   "cell_type": "markdown",
   "metadata": {},
   "source": [
    "# Imputation Methods"
   ]
  },
  {
   "cell_type": "markdown",
   "metadata": {},
   "source": [
    "**Datetime Columns (Forward Fill)**"
   ]
  },
  {
   "cell_type": "code",
   "execution_count": 11,
   "metadata": {},
   "outputs": [
    {
     "name": "stderr",
     "output_type": "stream",
     "text": [
      "C:\\Users\\SURFACE\\AppData\\Local\\Temp\\ipykernel_7556\\1921836317.py:2: FutureWarning: DataFrame.fillna with 'method' is deprecated and will raise in a future version. Use obj.ffill() or obj.bfill() instead.\n",
      "  data[datetime_columns] = data[datetime_columns].fillna(method='ffill')\n"
     ]
    }
   ],
   "source": [
    "datetime_columns = data.select_dtypes(include=['datetime64[ns]']).columns\n",
    "data[datetime_columns] = data[datetime_columns].fillna(method='ffill')"
   ]
  },
  {
   "cell_type": "markdown",
   "metadata": {},
   "source": [
    "**Numerical Columns (K-Nearest Neighbors)**"
   ]
  },
  {
   "cell_type": "code",
   "execution_count": 12,
   "metadata": {},
   "outputs": [],
   "source": [
    "imputer = KNNImputer(n_neighbors=5)\n",
    "numerical_columns = data.select_dtypes(include=['float64', 'int64']).columns.tolist()\n",
    "data[numerical_columns] = imputer.fit_transform(data[numerical_columns])"
   ]
  },
  {
   "cell_type": "markdown",
   "metadata": {},
   "source": [
    "**Categorical Columns (mode imputation)**"
   ]
  },
  {
   "cell_type": "code",
   "execution_count": 13,
   "metadata": {},
   "outputs": [
    {
     "name": "stderr",
     "output_type": "stream",
     "text": [
      "C:\\Users\\SURFACE\\AppData\\Local\\Temp\\ipykernel_7556\\4199709154.py:3: FutureWarning: Downcasting object dtype arrays on .fillna, .ffill, .bfill is deprecated and will change in a future version. Call result.infer_objects(copy=False) instead. To opt-in to the future behavior, set `pd.set_option('future.no_silent_downcasting', True)`\n",
      "  data[col] = data[col].fillna(data[col].mode()[0])\n"
     ]
    }
   ],
   "source": [
    "categorical_columns = data.select_dtypes(include=['object']).columns.tolist()\n",
    "for col in categorical_columns:\n",
    "    data[col] = data[col].fillna(data[col].mode()[0])"
   ]
  },
  {
   "cell_type": "markdown",
   "metadata": {},
   "source": [
    "# Data Type Correction"
   ]
  },
  {
   "cell_type": "code",
   "execution_count": 14,
   "metadata": {},
   "outputs": [
    {
     "name": "stdout",
     "output_type": "stream",
     "text": [
      "FirstTrsDate    float64\n",
      "LastTrsDate     float64\n",
      "dtype: object\n"
     ]
    }
   ],
   "source": [
    "print(data[['FirstTrsDate', 'LastTrsDate']].dtypes)"
   ]
  },
  {
   "cell_type": "code",
   "execution_count": 15,
   "metadata": {},
   "outputs": [
    {
     "data": {
      "text/html": [
       "<div>\n",
       "<style scoped>\n",
       "    .dataframe tbody tr th:only-of-type {\n",
       "        vertical-align: middle;\n",
       "    }\n",
       "\n",
       "    .dataframe tbody tr th {\n",
       "        vertical-align: top;\n",
       "    }\n",
       "\n",
       "    .dataframe thead th {\n",
       "        text-align: right;\n",
       "    }\n",
       "</style>\n",
       "<table border=\"1\" class=\"dataframe\">\n",
       "  <thead>\n",
       "    <tr style=\"text-align: right;\">\n",
       "      <th></th>\n",
       "      <th>FirstTrsDate</th>\n",
       "      <th>LastTrsDate</th>\n",
       "    </tr>\n",
       "  </thead>\n",
       "  <tbody>\n",
       "    <tr>\n",
       "      <th>0</th>\n",
       "      <td>14010107</td>\n",
       "      <td>14020326</td>\n",
       "    </tr>\n",
       "    <tr>\n",
       "      <th>3</th>\n",
       "      <td>14010101</td>\n",
       "      <td>14020501</td>\n",
       "    </tr>\n",
       "    <tr>\n",
       "      <th>4</th>\n",
       "      <td>14010101</td>\n",
       "      <td>14020501</td>\n",
       "    </tr>\n",
       "    <tr>\n",
       "      <th>5</th>\n",
       "      <td>14010243</td>\n",
       "      <td>14020108</td>\n",
       "    </tr>\n",
       "    <tr>\n",
       "      <th>8</th>\n",
       "      <td>14011128</td>\n",
       "      <td>14020214</td>\n",
       "    </tr>\n",
       "  </tbody>\n",
       "</table>\n",
       "</div>"
      ],
      "text/plain": [
       "   FirstTrsDate  LastTrsDate\n",
       "0      14010107     14020326\n",
       "3      14010101     14020501\n",
       "4      14010101     14020501\n",
       "5      14010243     14020108\n",
       "8      14011128     14020214"
      ]
     },
     "execution_count": 15,
     "metadata": {},
     "output_type": "execute_result"
    }
   ],
   "source": [
    "data['FirstTrsDate'] = np.floor(data['FirstTrsDate']).astype(int)\n",
    "data['LastTrsDate'] = np.floor(data['LastTrsDate']).astype(int)\n",
    "data[['FirstTrsDate', 'LastTrsDate']].head()"
   ]
  },
  {
   "cell_type": "code",
   "execution_count": 16,
   "metadata": {},
   "outputs": [
    {
     "data": {
      "text/html": [
       "<div>\n",
       "<style scoped>\n",
       "    .dataframe tbody tr th:only-of-type {\n",
       "        vertical-align: middle;\n",
       "    }\n",
       "\n",
       "    .dataframe tbody tr th {\n",
       "        vertical-align: top;\n",
       "    }\n",
       "\n",
       "    .dataframe thead th {\n",
       "        text-align: right;\n",
       "    }\n",
       "</style>\n",
       "<table border=\"1\" class=\"dataframe\">\n",
       "  <thead>\n",
       "    <tr style=\"text-align: right;\">\n",
       "      <th></th>\n",
       "      <th>FirstTrsDate</th>\n",
       "      <th>LastTrsDate</th>\n",
       "    </tr>\n",
       "  </thead>\n",
       "  <tbody>\n",
       "    <tr>\n",
       "      <th>0</th>\n",
       "      <td>14010107</td>\n",
       "      <td>14020326</td>\n",
       "    </tr>\n",
       "    <tr>\n",
       "      <th>3</th>\n",
       "      <td>14010101</td>\n",
       "      <td>14020501</td>\n",
       "    </tr>\n",
       "    <tr>\n",
       "      <th>4</th>\n",
       "      <td>14010101</td>\n",
       "      <td>14020501</td>\n",
       "    </tr>\n",
       "    <tr>\n",
       "      <th>5</th>\n",
       "      <td>14010229</td>\n",
       "      <td>14020108</td>\n",
       "    </tr>\n",
       "    <tr>\n",
       "      <th>8</th>\n",
       "      <td>14011128</td>\n",
       "      <td>14020214</td>\n",
       "    </tr>\n",
       "  </tbody>\n",
       "</table>\n",
       "</div>"
      ],
      "text/plain": [
       "  FirstTrsDate LastTrsDate\n",
       "0     14010107    14020326\n",
       "3     14010101    14020501\n",
       "4     14010101    14020501\n",
       "5     14010229    14020108\n",
       "8     14011128    14020214"
      ]
     },
     "execution_count": 16,
     "metadata": {},
     "output_type": "execute_result"
    }
   ],
   "source": [
    "def fix_date(date_str):\n",
    "    date_str = str(date_str)\n",
    "\n",
    "    year = int(date_str[:4])\n",
    "    month = int(date_str[4:6])\n",
    "    day = int(date_str[6:])\n",
    "\n",
    "    if day < 1:\n",
    "        day = 1\n",
    "    \n",
    "    if day > 31:\n",
    "        day = 29\n",
    "\n",
    "    if month < 1:\n",
    "        month = 1\n",
    "    \n",
    "    if month > 12:\n",
    "        month = 12\n",
    "    \n",
    "    if month == 12 and day == 30:\n",
    "        day = 29\n",
    "\n",
    "    \n",
    "\n",
    "    return f\"{year:04d}{month:02d}{day:02d}\"\n",
    "\n",
    "data['FirstTrsDate'] = data['FirstTrsDate'].apply(fix_date)\n",
    "data['LastTrsDate'] = data['LastTrsDate'].apply(fix_date)\n",
    "data[['FirstTrsDate', 'LastTrsDate']].head()"
   ]
  },
  {
   "cell_type": "code",
   "execution_count": 19,
   "metadata": {},
   "outputs": [
    {
     "name": "stdout",
     "output_type": "stream",
     "text": [
      "Error with Persian date: 14010731\n",
      "There was an error in the conversion.\n"
     ]
    }
   ],
   "source": [
    "def persian_to_english(persian_date_str):\n",
    "    try:\n",
    "        persian_year = int(persian_date_str[:4])\n",
    "        persian_month = int(persian_date_str[4:6])\n",
    "        persian_day = int(persian_date_str[6:])\n",
    "\n",
    "        persian_date = jdatetime.date(persian_year, persian_month, persian_day)\n",
    "        english_date = persian_date.togregorian()\n",
    "        \n",
    "        return english_date\n",
    "    except ValueError as e:\n",
    "        if 'day is out of range for month' in str(e):\n",
    "            print(f\"Error with Persian date: {persian_date_str}\")\n",
    "        raise  \n",
    "\n",
    "\n",
    "try:\n",
    "    data['FirstTrsDate'] = data['FirstTrsDate'].apply(persian_to_english)\n",
    "    data['LastTrsDate'] = data['LastTrsDate'].apply(persian_to_english)\n",
    "except ValueError:\n",
    "    print(\"There was an error in the conversion.\")"
   ]
  },
  {
   "cell_type": "markdown",
   "metadata": {},
   "source": [
    "# Saving Excel File"
   ]
  },
  {
   "cell_type": "code",
   "execution_count": 20,
   "metadata": {},
   "outputs": [],
   "source": [
    "data.to_excel(\"Preprocessed Data.xlsx\", index=False)"
   ]
  }
 ],
 "metadata": {
  "kernelspec": {
   "display_name": "Python 3",
   "language": "python",
   "name": "python3"
  },
  "language_info": {
   "codemirror_mode": {
    "name": "ipython",
    "version": 3
   },
   "file_extension": ".py",
   "mimetype": "text/x-python",
   "name": "python",
   "nbconvert_exporter": "python",
   "pygments_lexer": "ipython3",
   "version": "3.12.0"
  }
 },
 "nbformat": 4,
 "nbformat_minor": 2
}
